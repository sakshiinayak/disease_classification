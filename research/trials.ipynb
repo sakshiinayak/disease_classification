{
 "cells": [
  {
   "cell_type": "code",
   "execution_count": 1,
   "id": "2c2d8a12",
   "metadata": {},
   "outputs": [],
   "source": [
    "# config box\n",
    "d={\"key\":\"val\",\"key1\":\"val1\"}"
   ]
  },
  {
   "cell_type": "code",
   "execution_count": 2,
   "id": "558dcd55",
   "metadata": {},
   "outputs": [
    {
     "data": {
      "text/plain": [
       "'val'"
      ]
     },
     "execution_count": 2,
     "metadata": {},
     "output_type": "execute_result"
    }
   ],
   "source": [
    "d['key']"
   ]
  },
  {
   "cell_type": "code",
   "execution_count": 3,
   "id": "aff64c11",
   "metadata": {},
   "outputs": [],
   "source": [
    "from box import ConfigBox"
   ]
  },
  {
   "cell_type": "code",
   "execution_count": 4,
   "id": "a7045333",
   "metadata": {},
   "outputs": [],
   "source": [
    "d2=ConfigBox({\"key\":\"val\",\"key1\":\"val1\"})"
   ]
  },
  {
   "cell_type": "code",
   "execution_count": 5,
   "id": "21c8b4a1",
   "metadata": {},
   "outputs": [
    {
     "data": {
      "text/plain": [
       "'val'"
      ]
     },
     "execution_count": 5,
     "metadata": {},
     "output_type": "execute_result"
    }
   ],
   "source": [
    "d2.key"
   ]
  },
  {
   "cell_type": "code",
   "execution_count": 6,
   "id": "136b424f",
   "metadata": {},
   "outputs": [],
   "source": [
    "from ensure import ensure_annotations"
   ]
  },
  {
   "cell_type": "code",
   "execution_count": 7,
   "id": "aa736279",
   "metadata": {},
   "outputs": [],
   "source": [
    "@ensure_annotations\n",
    "def get_prodict(x:int,y:int) -> int:\n",
    "    return x*y"
   ]
  },
  {
   "cell_type": "code",
   "execution_count": 9,
   "id": "a3869629",
   "metadata": {},
   "outputs": [
    {
     "data": {
      "text/plain": [
       "6"
      ]
     },
     "execution_count": 9,
     "metadata": {},
     "output_type": "execute_result"
    }
   ],
   "source": [
    "get_prodict(x=2,y=3)"
   ]
  },
  {
   "cell_type": "code",
   "execution_count": 1,
   "id": "b5906bde",
   "metadata": {},
   "outputs": [],
   "source": [
    "#download data"
   ]
  },
  {
   "cell_type": "code",
   "execution_count": 2,
   "id": "2902a2b4",
   "metadata": {},
   "outputs": [],
   "source": [
    "import gdown "
   ]
  },
  {
   "cell_type": "code",
   "execution_count": 3,
   "id": "dc630f50",
   "metadata": {},
   "outputs": [],
   "source": [
    "url=\"https://drive.google.com/file/d/1qGG7_zS1O8MMdevjagw93RV1vqbZGEzV/view?usp=sharing\""
   ]
  },
  {
   "cell_type": "code",
   "execution_count": 6,
   "id": "814b2656",
   "metadata": {},
   "outputs": [
    {
     "data": {
      "text/plain": [
       "'1qGG7_zS1O8MMdevjagw93RV1vqbZGEzV'"
      ]
     },
     "execution_count": 6,
     "metadata": {},
     "output_type": "execute_result"
    }
   ],
   "source": [
    "file_id=url.split(\"/\")[-2]\n",
    "file_id"
   ]
  },
  {
   "cell_type": "code",
   "execution_count": 7,
   "id": "31d1e861",
   "metadata": {},
   "outputs": [
    {
     "name": "stderr",
     "output_type": "stream",
     "text": [
      "Downloading...\n",
      "From (original): https://drive.google.com/uc?/export=download&id=1qGG7_zS1O8MMdevjagw93RV1vqbZGEzV\n",
      "From (redirected): https://drive.google.com/uc?%2Fexport=download&id=1qGG7_zS1O8MMdevjagw93RV1vqbZGEzV&confirm=t&uuid=7f36a653-43a5-4def-9373-533eaa6fb81b\n",
      "To: c:\\Users\\sakshi\\Documents\\projects\\disease_classification\\research\\kidney-dataset.zip\n",
      "100%|██████████| 941M/941M [02:31<00:00, 6.20MB/s] \n"
     ]
    },
    {
     "data": {
      "text/plain": [
       "'kidney-dataset.zip'"
      ]
     },
     "execution_count": 7,
     "metadata": {},
     "output_type": "execute_result"
    }
   ],
   "source": [
    "prefix='https://drive.google.com/uc?/export=download&id='\n",
    "gdown.download(prefix+file_id,\"kidney-dataset.zip\")"
   ]
  },
  {
   "cell_type": "markdown",
   "id": "7453405a",
   "metadata": {},
   "source": []
  }
 ],
 "metadata": {
  "kernelspec": {
   "display_name": "disease",
   "language": "python",
   "name": "python3"
  },
  "language_info": {
   "codemirror_mode": {
    "name": "ipython",
    "version": 3
   },
   "file_extension": ".py",
   "mimetype": "text/x-python",
   "name": "python",
   "nbconvert_exporter": "python",
   "pygments_lexer": "ipython3",
   "version": "3.11.13"
  }
 },
 "nbformat": 4,
 "nbformat_minor": 5
}
